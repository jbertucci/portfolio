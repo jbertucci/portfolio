{
 "cells": [
  {
   "cell_type": "code",
   "execution_count": null,
   "metadata": {},
   "outputs": [],
   "source": [
    "import pandas as pd\n",
    "import numpy as np\n",
    "import random\n",
    "from statistics import median \n",
    "import matplotlib.pyplot as plt  \n",
    "import seaborn as sb \n",
    "from sklearn.model_selection import train_test_split \n",
    "from sklearn.linear_model import LinearRegression\n",
    "from sklearn import metrics\n",
    "from sklearn.preprocessing import MinMaxScaler\n",
    "from sklearn.model_selection import cross_val_score, KFold\n",
    "from sklearn.metrics import mean_squared_error\n",
    "from sklearn.metrics import r2_score\n",
    "from xgboost import XGBClassifier, XGBRegressor, plot_importance, plot_tree"
   ]
  },
  {
   "cell_type": "code",
   "execution_count": null,
   "metadata": {},
   "outputs": [],
   "source": [
    "raw = pd.read_csv(\"D:\\IST718_Group_Initial_EDA\\IST718_Group_Initial_EDA\\\\Scorecard.csv\")\n",
    "raw.columns.values\n",
    "len(raw.iloc[:,0])"
   ]
  },
  {
   "cell_type": "code",
   "execution_count": null,
   "metadata": {},
   "outputs": [],
   "source": [
    "# some columns for less-than-four years, some for four-years. some columns for private, some for public. must combine. some data only exists for Title IV institutions\n",
    "featurelist = ['Year','UNITID','OPEID','OPEID6','INSTNM','STABBR','REGION','LOCALE','LOCALE2','LATITUDE','LONGITUDE','SCH_DEG', 'PREDDEG','NUMBRANCH','MAIN','HCM2','AccredAgency','ZIP'\n",
    "               ,'CCUGPROF','CCBASIC','CCSIZSET','HBCU','PBI','MENONLY','WOMENONLY','RELAFFIL','ADM_RATE','SATVR25'\n",
    "               ,'SATVR75','SATMT25','SATMT75','SATWR25','SATWR75','SATVRMID','SATMTMID','SATWRMID','ACTCM25','ACTCM75'\n",
    "               ,'ACTEN25','ACTEN75','ACTMT25','ACTMT75','ACTWR25','ACTWR75','ACTCMMID','ACTENMID','ACTMTMID','ACTWRMID'\n",
    "               ,'SAT_AVG','SAT_AVG_ALL','UGDS','UG','DISTANCEONLY','PPTUG_EF','PPTUG_EF2','CURROPER'\n",
    "               ,'NPT4_PUB','NPT4_PRIV','NPT4_PROG','NPT4_OTHER','COSTT4_A','COSTT4_P','TUITIONFEE_IN','TUITIONFEE_OUT'\n",
    "               ,'TUITIONFEE_PROG','TUITFTE','INEXPFTE','AVGFACSAL','PFTFAC','PCTPELL','C150_4','C150_L4','C150_4_POOLED','C150_L4_POOLED'\n",
    "               ,'C200_4','C200_L4','RET_FT4','RET_FTL4','RET_PT4','RET_PTL4','UG25abv','CDR2','CDR3'\n",
    "               ,'DEATH_YR2_RT','ENRL_ORIG_YR2_RT','WDRAW_ORIG_YR2_RT','COMP_ORIG_YR2_RT'\n",
    "               ,'COMP_ORIG_YR3_RT','WDRAW_ORIG_YR3_RT','ENRL_ORIG_YR3_RT','PCTFLOAN','ENRL_ORIG_YR4_RT','DEATH_YR3_RT','COMP_ORIG_YR4_RT','DEATH_YR4_RT','WDRAW_ORIG_YR4_RT'\n",
    "               ,'COMP_ORIG_YR6_RT','DEATH_YR6_RT','ENRL_ORIG_YR6_RT','WDRAW_ORIG_YR6_RT'\n",
    "               ,'RPY_1YR_RT','RPY_3YR_RT','RPY_5YR_RT','RPY_7YR_RT','PAR_ED_PCT_1STGEN','DEP_STAT_PCT_IND','PAR_ED_PCT_MS','PAR_ED_PCT_HS','PAR_ED_PCT_PS'\n",
    "               ,'DEP_INC_AVG','IND_INC_AVG','DEBT_MDN','GRAD_DEBT_MDN','WDRAW_DEBT_MDN','LO_INC_DEBT_MDN','MD_INC_DEBT_MDN','HI_INC_DEBT_MDN','DEP_DEBT_MDN'\n",
    "               ,'IND_DEBT_MDN','MALE_DEBT_MDN','FEMALE_DEBT_MDN','FIRSTGEN_DEBT_MDN','NOTFIRSTGEN_DEBT_MDN'\n",
    "               ,'CUML_DEBT_P10','CUML_DEBT_P25','CUML_DEBT_P75','CUML_DEBT_P90','LOAN_EVER','PELL_EVER','AGE_ENTRY','AGEGE24'\n",
    "               ,'FEMALE','MARRIED','DEPENDENT','VETERAN','FIRST_GEN'\n",
    "               ,'FAMINC','MD_FAMINC','POVERTY_RATE','UNEMP_RATE'\n",
    "               ,'MD_EARN_WNE_P10','MN_EARN_WNE_P10','MD_EARN_WNE_P6','MN_EARN_WNE_P6','MN_EARN_WNE_P8','MD_EARN_WNE_P8'\n",
    "               ,'DEBT_MDN_SUPP','RPY_3YR_RT_SUPP'\n",
    "               ,'ICLEVEL','UGDS_MEN','UGDS_WOMEN'\n",
    "               ,'OPENADMP','SCHTYPE','OPEFLAG','PRGMOFR']"
   ]
  },
  {
   "cell_type": "code",
   "execution_count": null,
   "metadata": {},
   "outputs": [],
   "source": [
    "#subsetdf = raw[featurelist]\n",
    "KeyError: \"['POVERTY_RATE', 'MD_EARN_WNE_P6', 'OPENADMP', 'FEMALE', 'UGDS_MEN', 'UGDS_WOMEN', 'OPEFLAG', 'SATVRMIDSATMTMID', 'PELL_EVER', 'MD_EARN_WNE_P10', 'VETERAN', 'MAIN', 'FIRST_GEN', 'AGE_ENTRY', 'UG25ABV', 'ICLEVEL', 'LOAN_EVER', 'OPEID6', 'ACCREDAGENCY', 'SCHTYPE', 'MARRIED', 'MN_EARN_WNE_P8', 'MD_FAMINC', 'REGION', 'LOCALE2', 'MD_EARN_WNE_P8', 'FAMINC', 'MN_EARN_WNE_P10', 'MN_EARN_WNE_P6', 'PRGMOFR', 'DEPENDENT', 'SCH_DEG', 'UNEMP_RATE', 'AGEGE24'] not in index\"\n",
    "problem = ['POVERTY_RATE', 'MD_EARN_WNE_P6', 'OPENADMP', 'FEMALE', 'UGDS_MEN', 'UGDS_WOMEN', 'OPEFLAG', 'MD_EARN_WNE_P10', 'PELL_EVER', 'VETERAN', 'MAIN', 'FIRST_GEN', 'AGE_ENTRY', 'ICLEVEL', 'LOAN_EVER', 'OPEID6', 'SCHTYPE', 'MARRIED', 'MN_EARN_WNE_P8', 'MD_FAMINC', 'REGION', 'LOCALE2', 'MD_EARN_WNE_P8', 'FAMINC', 'MN_EARN_WNE_P10', 'MN_EARN_WNE_P6', 'DEPENDENT', 'PRGMOFR', 'SCH_DEG', 'UNEMP_RATE', 'AGEGE24']\n",
    "stillshit = ['iclevel', 'ugds_men', 'schtype', 'opeflag', 'openadmp', 'ugds_women', 'prgmofr']"
   ]
  },
  {
   "cell_type": "code",
   "execution_count": null,
   "metadata": {},
   "outputs": [],
   "source": [
    "loweredfeaturelist = []\n",
    "for each in featurelist:\n",
    "    if each in problem:\n",
    "        if each.lower() in stillshit:\n",
    "            pass\n",
    "        else:\n",
    "            loweredfeaturelist.append(each.lower())\n",
    "    else:\n",
    "        loweredfeaturelist.append(each)"
   ]
  },
  {
   "cell_type": "code",
   "execution_count": null,
   "metadata": {},
   "outputs": [],
   "source": [
    "subsetdf = raw[loweredfeaturelist]\n",
    "post2008 = subsetdf[(subsetdf['Year'] > 2008)]\n",
    "nulls = []\n",
    "notnulls = []"
   ]
  },
  {
   "cell_type": "code",
   "execution_count": null,
   "metadata": {},
   "outputs": [],
   "source": [
    "for each in post2008.columns.values:\n",
    "    nulls.append((each,(len(post2008.iloc[:,0]) - post2008[each].count())))\n",
    "    notnulls.append((each,(post2008[each].count())))\n",
    "print(list(post2008.columns))"
   ]
  },
  {
   "cell_type": "code",
   "execution_count": null,
   "metadata": {},
   "outputs": [],
   "source": [
    "sb.set()\n",
    "#'CDR2', 'CDR3',\n",
    "#'TUITIONFEE_IN', 'TUITIONFEE_OUT',\n",
    "justcosts = ['COSTT4_A','md_earn_wne_p6'] #'md_earn_wne_p10','mn_earn_wne_p10','mn_earn_wne_p8','md_earn_wne_p8','mn_earn_wne_p6'"
   ]
  },
  {
   "cell_type": "code",
   "execution_count": null,
   "metadata": {},
   "outputs": [],
   "source": [
    "nulllesspost2008 = post2008[justcosts]\n",
    "for ind1, bullshit in enumerate(nulllesspost2008.iterrows()):\n",
    "    nonsense, row = bullshit\n",
    "    for ind2,item in enumerate(row):\n",
    "        if item == 'PrivacySuppressed':\n",
    "            nulllesspost2008.iloc[ind1,ind2] = np.NaN\n",
    "      \n",
    "        \n",
    "            \n",
    "nulllesspost2008 = nulllesspost2008.applymap(float).dropna()"
   ]
  },
  {
   "cell_type": "code",
   "execution_count": null,
   "metadata": {},
   "outputs": [],
   "source": [
    "coeff_df = pd.DataFrame(regressor.coef_, nulllesspost2008.iloc[:,[0]].columns, columns=['Coefficient'])  \n",
    "coeff_df"
   ]
  },
  {
   "cell_type": "code",
   "execution_count": null,
   "metadata": {},
   "outputs": [],
   "source": [
    "plt.scatter(nulllesspost2008.iloc[:,0],nulllesspost2008.iloc[:,1],s=1,alpha=1,label = 'R^2 = ' + str(regressor.score(nulllesspost2008.iloc[:,[0]], nulllesspost2008.iloc[:,1])))\n",
    "plt.plot(nulllesspost2008.iloc[:,[0]], regressor.predict(nulllesspost2008.iloc[:,[0]]),color='r', label = 'Coef = ' + str(regressor.coef_[0]))\n",
    "plt.legend()\n",
    "plt.title('Median Earnings 6 Years After Graduation over Average Cost of Attendance')"
   ]
  },
  {
   "cell_type": "code",
   "execution_count": null,
   "metadata": {},
   "outputs": [],
   "source": [
    "justcosts = ['TUITIONFEE_IN','md_earn_wne_p6'] #'md_earn_wne_p10','mn_earn_wne_p10','mn_earn_wne_p8','md_earn_wne_p8','mn_earn_wne_p6'"
   ]
  },
  {
   "cell_type": "code",
   "execution_count": null,
   "metadata": {},
   "outputs": [],
   "source": [
    "nulllesspost2008 = post2008[justcosts]\n",
    "for ind1, bullshit in enumerate(nulllesspost2008.iterrows()):\n",
    "    nonsense, row = bullshit\n",
    "    for ind2,item in enumerate(row):\n",
    "        if item == 'PrivacySuppressed':\n",
    "            nulllesspost2008.iloc[ind1,ind2] = np.NaN\n",
    "            \n",
    "nulllesspost2008 = nulllesspost2008.applymap(float).dropna()"
   ]
  },
  {
   "cell_type": "code",
   "execution_count": null,
   "metadata": {},
   "outputs": [],
   "source": [
    "regressor = LinearRegression()  \n",
    "regressor.fit(nulllesspost2008.iloc[:,[0]], nulllesspost2008.iloc[:,1])"
   ]
  },
  {
   "cell_type": "code",
   "execution_count": null,
   "metadata": {},
   "outputs": [],
   "source": [
    "coeff_df = pd.DataFrame(regressor.coef_, nulllesspost2008.iloc[:,[0]].columns, columns=['Coefficient'])  \n",
    "coeff_df"
   ]
  },
  {
   "cell_type": "code",
   "execution_count": null,
   "metadata": {},
   "outputs": [],
   "source": [
    "plt.scatter(nulllesspost2008.iloc[:,0],nulllesspost2008.iloc[:,1],s=1,alpha=1,label = 'R^2 = ' + str(regressor.score(nulllesspost2008.iloc[:,[0]], nulllesspost2008.iloc[:,1])))\n",
    "plt.plot(nulllesspost2008.iloc[:,[0]], regressor.predict(nulllesspost2008.iloc[:,[0]]),color='r', label = 'Coef = ' + str(regressor.coef_[0]))\n",
    "plt.legend()\n",
    "plt.title('Median Earnings 6 Years After Graduation over In-State Tuition')"
   ]
  },
  {
   "cell_type": "code",
   "execution_count": null,
   "metadata": {},
   "outputs": [],
   "source": [
    "justcosts = ['TUITIONFEE_OUT','md_earn_wne_p6'] #'md_earn_wne_p10','mn_earn_wne_p10','mn_earn_wne_p8','md_earn_wne_p8','mn_earn_wne_p6'"
   ]
  },
  {
   "cell_type": "code",
   "execution_count": null,
   "metadata": {},
   "outputs": [],
   "source": [
    "nulllesspost2008 = post2008[justcosts]\n",
    "for ind1, bullshit in enumerate(nulllesspost2008.iterrows()):\n",
    "    nonsense, row = bullshit\n",
    "    for ind2,item in enumerate(row):\n",
    "        if item == 'PrivacySuppressed':\n",
    "            nulllesspost2008.iloc[ind1,ind2] = np.NaN\n",
    "            \n",
    "nulllesspost2008 = nulllesspost2008.applymap(float).dropna()"
   ]
  },
  {
   "cell_type": "code",
   "execution_count": null,
   "metadata": {},
   "outputs": [],
   "source": [
    "regressor = LinearRegression()  \n",
    "regressor.fit(nulllesspost2008.iloc[:,[0]], nulllesspost2008.iloc[:,1])"
   ]
  },
  {
   "cell_type": "code",
   "execution_count": null,
   "metadata": {},
   "outputs": [],
   "source": [
    "coeff_df = pd.DataFrame(regressor.coef_, nulllesspost2008.iloc[:,[0]].columns, columns=['Coefficient'])  \n",
    "coeff_df"
   ]
  },
  {
   "cell_type": "code",
   "execution_count": null,
   "metadata": {},
   "outputs": [],
   "source": [
    "plt.scatter(nulllesspost2008.iloc[:,0],nulllesspost2008.iloc[:,1],s=1,alpha=1,label = 'R^2 = ' + str(regressor.score(nulllesspost2008.iloc[:,[0]], nulllesspost2008.iloc[:,1])))\n",
    "plt.plot(nulllesspost2008.iloc[:,[0]], regressor.predict(nulllesspost2008.iloc[:,[0]]),color='r', label = 'Coef = ' + str(regressor.coef_[0]))\n",
    "plt.legend()\n",
    "plt.title('Median Earnings 6 Years After Graduation over Out-Of-State Tuition')"
   ]
  },
  {
   "cell_type": "code",
   "execution_count": null,
   "metadata": {},
   "outputs": [],
   "source": [
    "# LEAVE OUT SAT_AVG_ALL TO HAVE GREATER SAMPLE SIZE\n",
    "selectlist = ['PCTFLOAN', 'ADM_RATE' , 'UGDS',   'SAT_AVG_ALL',  'HCM2',   'AVGFACSAL', 'PFTFAC',     'COSTT4_A',    'md_earn_wne_p6'] #'AVGFACSAL', 'PFTFAC'    #   'COSTT4_A', 'TUITIONFEE_IN', 'TUITIONFEE_OUT'  "
   ]
  },
  {
   "cell_type": "code",
   "execution_count": null,
   "metadata": {},
   "outputs": [],
   "source": [
    "hat  =  post2008[selectlist]\n",
    "for ind1, bullshit in enumerate(hat.iterrows()):\n",
    "    nonsense, row = bullshit\n",
    "    for ind2,item in enumerate(row):\n",
    "        if item == 'PrivacySuppressed':\n",
    "            hat.iloc[ind1,ind2] = np.NaN\n",
    "                 \n",
    "hat = hat.applymap(float).dropna()"
   ]
  },
  {
   "cell_type": "code",
   "execution_count": null,
   "metadata": {},
   "outputs": [],
   "source": [
    "label = list(hat['md_earn_wne_p6'] / hat['COSTT4_A'])  # list(hat['md_earn_wne_p6'] / hat['COSTT4_A'])  is for value    list(hat['md_earn_wne_p6'])  is for earnings"
   ]
  },
  {
   "cell_type": "code",
   "execution_count": null,
   "metadata": {},
   "outputs": [],
   "source": [
    "scale = hat.iloc[:,[0,1,2,3,4,5,6]]\n",
    "scaler = MinMaxScaler()\n",
    "scaler.fit(scale.to_numpy())\n",
    "prep = scaler.transform(scale.to_numpy())\n",
    "prep = pd.DataFrame(prep, columns = list(scale.columns))"
   ]
  },
  {
   "cell_type": "code",
   "execution_count": null,
   "metadata": {},
   "outputs": [],
   "source": [
    "discretizedlabel = []\n",
    "for each in label:\n",
    "    if each > median(label):\n",
    "        discretizedlabel.append(1)\n",
    "    else:\n",
    "        discretizedlabel.append(0)"
   ]
  },
  {
   "cell_type": "code",
   "execution_count": null,
   "metadata": {},
   "outputs": [],
   "source": [
    "sampler = random.sample(range(0,len(hat.iloc[:,0])), round(0.7 * len(hat.iloc[:,0])))\n",
    "notsampler = []\n",
    "for each in range(0,len(hat.iloc[:,0])):\n",
    "    if not each in sampler:\n",
    "        notsampler.append(each)"
   ]
  },
  {
   "cell_type": "code",
   "execution_count": null,
   "metadata": {},
   "outputs": [],
   "source": [
    "train = prep.iloc[sampler,:]\n",
    "test = prep.iloc[notsampler,:]\n",
    "labeltrain = []\n",
    "for each in sampler:\n",
    "    labeltrain.append(discretizedlabel[each])\n",
    "labeltest = []\n",
    "for each in notsampler:\n",
    "    labeltest.append(discretizedlabel[each])"
   ]
  },
  {
   "cell_type": "code",
   "execution_count": null,
   "metadata": {},
   "outputs": [],
   "source": [
    "regressionlabeltrain = []\n",
    "for each in sampler:\n",
    "    regressionlabeltrain.append(label[each])\n",
    "regressionlabeltest = []\n",
    "for each in notsampler:\n",
    "    regressionlabeltest.append(label[each])"
   ]
  },
  {
   "cell_type": "code",
   "execution_count": null,
   "metadata": {},
   "outputs": [],
   "source": [
    "########## XGBOOST CLASSIFICATION\n",
    "XGBmodel = XGBClassifier()\n",
    "XGBmodel.fit(train, labeltrain)\n",
    "XGBprediction = XGBmodel.predict(test)"
   ]
  },
  {
   "cell_type": "code",
   "execution_count": null,
   "metadata": {},
   "outputs": [],
   "source": [
    "XGBcorrect = []\n",
    "for each in range(0,len(XGBprediction)):\n",
    "    if XGBprediction[each] == labeltest[each]:\n",
    "        XGBcorrect.append(1)\n",
    "    else:\n",
    "        XGBcorrect.append(0)\n",
    "print(sum(XGBcorrect) / len(XGBcorrect))"
   ]
  },
  {
   "cell_type": "code",
   "execution_count": null,
   "metadata": {},
   "outputs": [],
   "source": [
    "actual = pd.Series(labeltest, dtype= \"category\")\n",
    "pred = pd.Series(XGBprediction, dtype= \"category\")\n",
    "confusionmatrix = pd.crosstab(actual, pred)\n",
    "sb.heatmap(confusionmatrix, annot = True, cmap = \"Blues\", fmt='g')\n",
    "plt.xlabel('Prediction')\n",
    "plt.ylabel('Actual')"
   ]
  },
  {
   "cell_type": "code",
   "execution_count": null,
   "metadata": {},
   "outputs": [],
   "source": [
    "plot_tree(XGBmodel)\n",
    "fig = plt.gcf()\n",
    "fig.set_size_inches(30, 20)\n",
    "fig.savefig('treeclass.png')"
   ]
  },
  {
   "cell_type": "code",
   "execution_count": null,
   "metadata": {},
   "outputs": [],
   "source": [
    "plot_importance(XGBmodel,  importance_type  = 'weight' , title = 'XGB Feature Weight')\n",
    "plot_importance(XGBmodel,  importance_type  = 'gain', title = 'XGB Feature Gain')"
   ]
  },
  {
   "cell_type": "code",
   "execution_count": null,
   "metadata": {},
   "outputs": [],
   "source": [
    "########## XGBOOST REGRESSSION\n",
    "XGBmodel = XGBRegressor()    # booster='gblinear'  booster='gbtree'\n",
    "XGBmodel.fit(train, regressionlabeltrain) \n",
    "XGBprediction = XGBmodel.predict(test)"
   ]
  },
  {
   "cell_type": "code",
   "execution_count": null,
   "metadata": {},
   "outputs": [],
   "source": [
    "# XGBmodel.coef_\n",
    "mse = mean_squared_error(regressionlabeltest, XGBprediction)\n",
    "r2 = r2_score(regressionlabeltest, XGBprediction)"
   ]
  },
  {
   "cell_type": "code",
   "execution_count": null,
   "metadata": {},
   "outputs": [],
   "source": [
    "plot_tree(XGBmodel)\n",
    "fig = plt.gcf()\n",
    "fig.set_size_inches(30, 20)\n",
    "fig.savefig('treereg.png')"
   ]
  },
  {
   "cell_type": "code",
   "execution_count": null,
   "metadata": {},
   "outputs": [],
   "source": [
    "plot_importance(XGBmodel,  importance_type  = 'weight' , title = 'XGB Feature Weight')\n",
    "plot_importance(XGBmodel,  importance_type  = 'gain', title = 'XGB Feature Gain')"
   ]
  },
  {
   "cell_type": "code",
   "execution_count": null,
   "metadata": {},
   "outputs": [],
   "source": [
    "#coeff_df = pd.DataFrame(XGBmodel.coef_, train.columns, columns=['Coefficient'])  \n",
    "#coeff_df\n",
    "len(label)\n",
    "# 2787   with 'PCTFLOAN', 'ADM_RATE' , 'UGDS',  'SAT_AVG_ALL',   'HCM2',    'AVGFACSAL', 'PFTFAC',    'COSTT4_A',    'md_earn_wne_p6'\n"
   ]
  }
 ],
 "metadata": {
  "kernelspec": {
   "display_name": "Python 3",
   "language": "python",
   "name": "python3"
  },
  "language_info": {
   "codemirror_mode": {
    "name": "ipython",
    "version": 3
   },
   "file_extension": ".py",
   "mimetype": "text/x-python",
   "name": "python",
   "nbconvert_exporter": "python",
   "pygments_lexer": "ipython3",
   "version": "3.7.3"
  }
 },
 "nbformat": 4,
 "nbformat_minor": 2
}
